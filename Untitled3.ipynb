{
  "nbformat": 4,
  "nbformat_minor": 0,
  "metadata": {
    "colab": {
      "name": "Untitled3.ipynb",
      "provenance": [],
      "collapsed_sections": [],
      "authorship_tag": "ABX9TyMDi1wnAVmJ8qFLj+sUhhUd"
    },
    "kernelspec": {
      "name": "python3",
      "display_name": "Python 3"
    },
    "language_info": {
      "name": "python"
    }
  },
  "cells": [
    {
      "cell_type": "code",
      "execution_count": 5,
      "metadata": {
        "colab": {
          "base_uri": "https://localhost:8080/",
          "height": 136
        },
        "id": "K9zEbO85xMrd",
        "outputId": "fb07a78b-89eb-41e9-a4b2-140937df1f9d"
      },
      "outputs": [
        {
          "output_type": "error",
          "ename": "SyntaxError",
          "evalue": "ignored",
          "traceback": [
            "\u001b[0;36m  File \u001b[0;32m\"<ipython-input-5-065df74cb2b2>\"\u001b[0;36m, line \u001b[0;32m20\u001b[0m\n\u001b[0;31m    print (sess,run(H,feed_dict={x: {8}}))\u001b[0m\n\u001b[0m        ^\u001b[0m\n\u001b[0;31mSyntaxError\u001b[0m\u001b[0;31m:\u001b[0m invalid syntax\n"
          ]
        }
      ],
      "source": [
        "import tensorflow as tf\n",
        "xData = [1,2,3,4,5,6,7]\n",
        "yData = [25000,55000,75000,110000,128000,155000,180000]\n",
        "W = tf.Variable(tf.random_uniform([1],-100,100))\n",
        "b = tf.Variable(tf.random_uniform([1],-100,100))\n",
        "x = tf.placeholder(tf.float32)\n",
        "y = tf.placeholder(tf.float32)\n",
        "H = W * x + b\n",
        "cost=tf.reduce_mean(tf.square(H - y))\n",
        "a = tf.Variable(0.01)\n",
        "optimizer = tf.train.GradientDescendentOptimizer(a)\n",
        "train = optimizer.minimize(cost)\n",
        "init= tf.global_variables_initializer()\n",
        "sess = tf.Session()\n",
        "sess.run(init)\n",
        "for i in range(5001):\n",
        "    sess.run(train, feed_dict={x: xData, y: yData})\n",
        "    if i % 500 ==0:\n",
        "        print (i, sess.run(i,sess.run(cost, feed_dict={x: xData, y: yData}),sess.run(W),sess.run(b))\n",
        "print (sess,run(H,feed_dict={x: {8}}))"
      ]
    }
  ]
}